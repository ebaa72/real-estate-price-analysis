{
 "cells": [
  {
   "cell_type": "code",
   "execution_count": 2,
   "id": "cd9a4b68-ed30-4ce6-886b-cbf0fd21d5e6",
   "metadata": {},
   "outputs": [],
   "source": [
    "import requests\n",
    "from bs4 import BeautifulSoup\n",
    "import pandas as pd\n",
    "import time\n",
    "import re"
   ]
  },
  {
   "cell_type": "code",
   "execution_count": 3,
   "id": "bbaad209-f214-4512-ada8-f839acb2c5db",
   "metadata": {},
   "outputs": [
    {
     "name": "stdout",
     "output_type": "stream",
     "text": [
      "Scraping page 1...\n",
      "Scraping page 2...\n",
      "Scraping page 3...\n",
      "Scraping page 4...\n",
      "Scraping page 5...\n",
      "Scraping page 6...\n",
      "Scraping page 7...\n",
      "\n",
      ":white_check_mark: Total properties scraped: 63\n",
      "                      Title       Price    Location Bedrooms Area (sqm)\n",
      "0       3-BEDROOM APARTMENT   OMR45,000     Bausher        3        N/A\n",
      "1           3-BEDROOM VILLA  OMR290,000  Al Mawaleh        3        N/A\n",
      "2      6-BEDROOM TWIN VILLA  OMR180,000     Bausher        6        N/A\n",
      "3  7-BEDROOM DETACHED VILLA  OMR300,000    Al Ansab        7        758\n",
      "4  4-BEDROOM DETACHED VILLA   OMR80,000     Al Hail        4        N/A\n"
     ]
    }
   ],
   "source": [
    "all_flat = []\n",
    "for page in range(1, 8):\n",
    "    print(f\"Scraping page {page}...\")\n",
    "    url = f\"https://hilalprp.com.om/properties-search/page/{page}/?status=for-sale\"\n",
    "    headers = {\n",
    "        \"User-Agent\": \"Mozilla/5.0 (Windows NT 10.0; Win64; x64) AppleWebKit/537.36 (KHTML, like Gecko) Chrome/119.0.0.0 Safari/537.36\"\n",
    "    }\n",
    "    response = requests.get(url, headers=headers)\n",
    "    soup = BeautifulSoup(response.content, 'html.parser')\n",
    "    listings = soup.find_all('div', class_=\"rh_list_card__map_wrap\")\n",
    "    if not listings:\n",
    "        print(f\"No listings found on page {page}\")\n",
    "        continue\n",
    "    for listing in listings:\n",
    "        try:\n",
    "            title = listing.find('h3').text.strip()\n",
    "            price = listing.find('p', class_=\"price\").text.strip()\n",
    "            full_text = listing.get_text(separator=' ').lower()\n",
    "            title_text = title.lower()\n",
    "            # find number of bedrooms\n",
    "            bed_match = re.search(r'(\\d+)[\\s-]*bed', title_text) or re.search(r'(\\d+)\\s*bed', full_text)\n",
    "            bedrooms = bed_match.group(1) if bed_match else 'N/A'\n",
    "            link_tag = listing.find('a', href=True)\n",
    "            detail_url = link_tag['href'] if link_tag else None\n",
    "            location = \"N/A\"\n",
    "            area = \"N/A\"\n",
    "            if detail_url:\n",
    "                detail_resp = requests.get(detail_url, headers=headers)\n",
    "                detail_soup = BeautifulSoup(detail_resp.content, 'html.parser')\n",
    "                # Location from city link \n",
    "                city_link = detail_soup.find('a', href=re.compile(r'/property-city/'))\n",
    "                if city_link:\n",
    "                    location = city_link.text.strip()\n",
    "                # Area\n",
    "                area_div = detail_soup.find(\"div\", class_=\"rh_property__meta prop_area\")\n",
    "                if area_div:\n",
    "                    area_span = area_div.find(\"span\", class_=\"figure\")\n",
    "                    if area_span:\n",
    "                        area = area_span.text.strip()\n",
    "            all_flat.append({\n",
    "                \"Title\": title,\n",
    "                \"Price\": price,\n",
    "                \"Location\": location,\n",
    "                \"Bedrooms\": bedrooms,\n",
    "                \"Area (sqm)\": area\n",
    "            })\n",
    "        except Exception as e:\n",
    "            print(f\"Error on page {page} listing: {e}\")\n",
    "    time.sleep(1)  \n",
    "# Save to CSV\n",
    "df2 = pd.DataFrame(all_flat)\n",
    "df2.to_csv('hilal_properties.csv', index=False)\n",
    "print(f\"\\n:white_check_mark: Total properties scraped: {len(df2)}\")\n",
    "print(df2.head())\n"
   ]
  },
  {
   "cell_type": "code",
   "execution_count": null,
   "id": "0db72236-c803-43d8-b2dc-7b1a320ebe32",
   "metadata": {},
   "outputs": [],
   "source": []
  }
 ],
 "metadata": {
  "kernelspec": {
   "display_name": "Python [conda env:base] *",
   "language": "python",
   "name": "conda-base-py"
  },
  "language_info": {
   "codemirror_mode": {
    "name": "ipython",
    "version": 3
   },
   "file_extension": ".py",
   "mimetype": "text/x-python",
   "name": "python",
   "nbconvert_exporter": "python",
   "pygments_lexer": "ipython3",
   "version": "3.13.5"
  }
 },
 "nbformat": 4,
 "nbformat_minor": 5
}
